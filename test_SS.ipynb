{
  "cells": [
    {
      "cell_type": "markdown",
      "metadata": {
        "colab_type": "text",
        "id": "view-in-github"
      },
      "source": [
        "<a href=\"https://colab.research.google.com/github/eric88525/Speaker-Separation/blob/main/test_SS.ipynb\" target=\"_parent\"><img src=\"https://colab.research.google.com/assets/colab-badge.svg\" alt=\"Open In Colab\"/></a>"
      ]
    },
    {
      "cell_type": "code",
      "execution_count": null,
      "metadata": {
        "colab": {
          "base_uri": "https://localhost:8080/"
        },
        "id": "Bd5O8rVygMFb",
        "outputId": "b2994830-4f13-411f-cb91-935ce9f53f28"
      },
      "outputs": [
        {
          "name": "stdout",
          "output_type": "stream",
          "text": [
            "Cloning into 'Speaker-Separation'...\n",
            "remote: Enumerating objects: 65, done.\u001b[K\n",
            "remote: Counting objects: 100% (65/65), done.\u001b[K\n",
            "remote: Compressing objects: 100% (45/45), done.\u001b[K\n",
            "remote: Total 65 (delta 9), reused 65 (delta 9), pack-reused 0\u001b[K\n",
            "Unpacking objects: 100% (65/65), done.\n"
          ]
        }
      ],
      "source": []
    },
    {
      "cell_type": "code",
      "execution_count": null,
      "metadata": {
        "id": "9WfZCRgtB5hR"
      },
      "outputs": [],
      "source": [
        "!pip install torchaudio\n",
        "!pip install -U PyYAML"
      ]
    },
    {
      "cell_type": "code",
      "execution_count": null,
      "metadata": {
        "colab": {
          "base_uri": "https://localhost:8080/"
        },
        "id": "wUjgIl78gVEF",
        "outputId": "3f80c2ae-97b0-4f88-a486-80ca90171a2c"
      },
      "outputs": [
        {
          "name": "stdout",
          "output_type": "stream",
          "text": [
            "Mounted at /content/drive\n",
            "/bin/bash: google-drive-ocamlfuse: command not found\n"
          ]
        }
      ],
      "source": [
        "from google.colab import drive\n",
        "drive.mount(\"/content/drive\", force_remount=True)\n",
        "!mkdir -p drive\n",
        "!google-drive-ocamlfuse drive\n"
      ]
    },
    {
      "cell_type": "code",
      "execution_count": null,
      "metadata": {
        "colab": {
          "base_uri": "https://localhost:8080/"
        },
        "id": "pilDSufOmbQn",
        "outputId": "ad392169-9b26-4843-826c-f034aafa6a08"
      },
      "outputs": [
        {
          "name": "stdout",
          "output_type": "stream",
          "text": [
            "/bin/bash: nvidia-sm: command not found\n"
          ]
        }
      ],
      "source": [
        "!nvidia-sm"
      ]
    },
    {
      "cell_type": "markdown",
      "metadata": {
        "id": "udLeCUSsBrKv"
      },
      "source": [
        "# 學長的"
      ]
    },
    {
      "cell_type": "code",
      "execution_count": null,
      "metadata": {
        "id": "hmZwpGchB6uq"
      },
      "outputs": [],
      "source": [
        "#!git clone https://github.com/eric88525/Speaker-Separation"
      ]
    },
    {
      "cell_type": "code",
      "execution_count": null,
      "metadata": {
        "colab": {
          "base_uri": "https://localhost:8080/"
        },
        "id": "dBV09SupgjJt",
        "outputId": "e6d1e6f8-eafe-4e3a-c307-0105bb4c8cb6"
      },
      "outputs": [
        {
          "name": "stdout",
          "output_type": "stream",
          "text": [
            "/content/drive/MyDrive/Speaker-Separation\n",
            "checkpoint     dualrnn_test.py\t    src\t\t\ttr_s1.scp\n",
            "config\t       dualrnn_test_wav.py  test_tasnet.py\ttr_s2.scp\n",
            "create_scp.py  log\t\t    test_tasnet_wav.py\ttt_mix.scp\n",
            "cv_mix.scp     logger\t\t    testwav\t\ttt_s1.scp\n",
            "cv_s1.scp      loss.png\t\t    trainer\t\ttt_s2.scp\n",
            "cv_s2.scp      model\t\t    train_rnn.py\tutils\n",
            "data_loader    README.md\t    train_Tasnet.py\tutils.py\n",
            "demo_output    sep_one.sh\t    tr_mix.scp\n"
          ]
        }
      ],
      "source": [
        "%cd drive/MyDrive/Speaker-Separation/\n",
        "!ls"
      ]
    },
    {
      "cell_type": "code",
      "execution_count": null,
      "metadata": {
        "colab": {
          "base_uri": "https://localhost:8080/"
        },
        "id": "vgPTuviCxaVr",
        "outputId": "1cf1f4de-a5f6-4f47-9abe-c740aa75ca3e"
      },
      "outputs": [
        {
          "name": "stdout",
          "output_type": "stream",
          "text": [
            "\u001b[0m\u001b[01;34mcheckpoint\u001b[0m/    dualrnn_test.py      \u001b[01;34msrc\u001b[0m/                tr_s1.scp\n",
            "\u001b[01;34mconfig\u001b[0m/        dualrnn_test_wav.py  test_tasnet.py      tr_s2.scp\n",
            "create_scp.py  \u001b[01;34mlog\u001b[0m/                 test_tasnet_wav.py  tt_mix.scp\n",
            "cv_mix.scp     \u001b[01;34mlogger\u001b[0m/              \u001b[01;34mtestwav\u001b[0m/            tt_s1.scp\n",
            "cv_s1.scp      loss.png             \u001b[01;34mtrainer\u001b[0m/            tt_s2.scp\n",
            "cv_s2.scp      \u001b[01;34mmodel\u001b[0m/               train_rnn.py        \u001b[01;34mutils\u001b[0m/\n",
            "\u001b[01;34mdata_loader\u001b[0m/   README.md            train_Tasnet.py     utils.py\n",
            "\u001b[01;34mdemo_output\u001b[0m/   sep_one.sh           tr_mix.scp\n"
          ]
        }
      ],
      "source": [
        "ls"
      ]
    },
    {
      "cell_type": "markdown",
      "metadata": {
        "id": "Y0DfyleBBt8j"
      },
      "source": [
        "# 中國作者的"
      ]
    },
    {
      "cell_type": "code",
      "execution_count": null,
      "metadata": {
        "colab": {
          "base_uri": "https://localhost:8080/"
        },
        "id": "H5wewDU1xbfH",
        "outputId": "4e4f6635-acfb-40cc-c1cc-4ccae8d538a9"
      },
      "outputs": [
        {
          "name": "stdout",
          "output_type": "stream",
          "text": [
            "Cloning into 'Dual-Path-RNN-Pytorch'...\n",
            "remote: Enumerating objects: 206, done.\u001b[K\n",
            "remote: Counting objects: 100% (206/206), done.\u001b[K\n",
            "remote: Compressing objects: 100% (131/131), done.\u001b[K\n",
            "remote: Total 206 (delta 96), reused 134 (delta 47), pack-reused 0\u001b[K\n",
            "Receiving objects: 100% (206/206), 91.23 KiB | 3.97 MiB/s, done.\n",
            "Resolving deltas: 100% (96/96), done.\n"
          ]
        }
      ],
      "source": [
        "!git clone https://github.com/JusperLee/Dual-Path-RNN-Pytorch"
      ]
    },
    {
      "cell_type": "code",
      "execution_count": null,
      "metadata": {
        "colab": {
          "base_uri": "https://localhost:8080/"
        },
        "id": "aHFOS8BBxe4m",
        "outputId": "ed787915-4a1e-48fd-e67e-fa1b03eed80b"
      },
      "outputs": [
        {
          "name": "stdout",
          "output_type": "stream",
          "text": [
            "/content/drive/MyDrive/Dual-Path-RNN-Pytorch\n"
          ]
        }
      ],
      "source": [
        "%cd drive/MyDrive/Dual-Path-RNN-Pytorch/"
      ]
    },
    {
      "cell_type": "markdown",
      "metadata": {
        "id": "23Ieqg0FBxI6"
      },
      "source": [
        "# 轉檔案"
      ]
    },
    {
      "cell_type": "code",
      "execution_count": null,
      "metadata": {
        "colab": {
          "base_uri": "https://localhost:8080/"
        },
        "id": "Ydf9N2PHm4Vv",
        "outputId": "20cf4a52-b084-414a-deea-677b5ffa3a69"
      },
      "outputs": [
        {
          "name": "stderr",
          "output_type": "stream",
          "text": [
            "/usr/local/lib/python3.7/dist-packages/librosa/core/audio.py:162: UserWarning: PySoundFile failed. Trying audioread instead.\n",
            "  warnings.warn(\"PySoundFile failed. Trying audioread instead.\")\n"
          ]
        }
      ],
      "source": [
        "import librosa\n",
        "import soundfile as sf\n",
        "\n",
        "filename =  './testwav/mix1.mp3'\n",
        "y, sr = librosa.load(filename , sr=8000 , duration=20 , offset=20 )\n",
        "#y, sr = sf.read( filename , samplerate = 8000)\n",
        "sf.write( './testwav/mix1_8k.wav'  , y, 8000)\n"
      ]
    },
    {
      "cell_type": "markdown",
      "metadata": {
        "id": "CCC-gW8jBz4m"
      },
      "source": [
        "# run"
      ]
    },
    {
      "cell_type": "code",
      "execution_count": null,
      "metadata": {
        "colab": {
          "base_uri": "https://localhost:8080/"
        },
        "id": "5kLedhMdyvF6",
        "outputId": "0a84be07-6b72-4e94-fbf7-b41345c808c6"
      },
      "outputs": [
        {
          "name": "stdout",
          "output_type": "stream",
          "text": [
            "/usr/local/lib/python3.7/dist-packages/torchaudio/backend/utils.py:54: UserWarning: \"sox\" backend is being deprecated. The default backend will be changed to \"sox_io\" backend in 0.8.0 and \"sox\" backend will be removed in 0.9.0. Please migrate to \"sox_io\" backend. Please refer to https://github.com/pytorch/audio/issues/903 for the detail.\n",
            "  '\"sox\" backend is being deprecated. '\n",
            "21-03-02 03:35:44 [dualrnn_test_wav.py:23 - INFO ] Load checkpoint from saved_models/best.pt, epoch  46\n",
            "torch.Size([1, 160000])\n",
            "21-03-02 03:36:36 [dualrnn_test_wav.py:51 - INFO ] Compute over 160000 utterances\n"
          ]
        }
      ],
      "source": [
        "!python dualrnn_test_wav.py -mix_scp ./testwav/mix1_8k.wav -yaml config/Dual_RNN/train_rnn.yml -model saved_models/best.pt -save_path demo_output\n",
        "\n",
        "# wav_path yaml model_path"
      ]
    },
    {
      "cell_type": "code",
      "execution_count": null,
      "metadata": {
        "colab": {
          "base_uri": "https://localhost:8080/"
        },
        "id": "wslr67mdvkx7",
        "outputId": "cc02cf99-6eae-4cf4-d272-79cbf4fad8a6"
      },
      "outputs": [
        {
          "name": "stderr",
          "output_type": "stream",
          "text": [
            "/usr/local/lib/python3.7/dist-packages/torchaudio/backend/utils.py:54: UserWarning: \"sox\" backend is being deprecated. The default backend will be changed to \"sox_io\" backend in 0.8.0 and \"sox\" backend will be removed in 0.9.0. Please migrate to \"sox_io\" backend. Please refer to https://github.com/pytorch/audio/issues/903 for the detail.\n",
            "  '\"sox\" backend is being deprecated. '\n"
          ]
        }
      ],
      "source": [
        "import torchaudio\n",
        "torchaudio.load()"
      ]
    }
  ],
  "metadata": {
    "accelerator": "GPU",
    "colab": {
      "authorship_tag": "ABX9TyNGmiK1m1qqtW2V75zLNQTG",
      "collapsed_sections": [],
      "include_colab_link": true,
      "name": "test-SS.ipynb",
      "provenance": []
    },
    "interpreter": {
      "hash": "9fd3533082861712263510b5f02bcfb2435af5c4bca9b5e12ccfac6ae1125594"
    },
    "kernelspec": {
      "display_name": "Python 3.9.12 64-bit",
      "language": "python",
      "name": "python3"
    },
    "language_info": {
      "name": "python",
      "version": "3.9.12"
    }
  },
  "nbformat": 4,
  "nbformat_minor": 0
}
